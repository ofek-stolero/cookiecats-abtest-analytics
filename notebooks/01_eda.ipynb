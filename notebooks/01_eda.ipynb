{
 "cells": [
  {
   "cell_type": "code",
   "execution_count": null,
   "id": "cd7bf03f",
   "metadata": {},
   "outputs": [
    {
     "name": "stdout",
     "output_type": "stream",
     "text": [
      "Dataset path: /Users/stolero.ofek/.cache/kagglehub/datasets/yufengsui/mobile-games-ab-testing/versions/1\n"
     ]
    },
    {
     "data": {
      "application/vnd.microsoft.datawrangler.viewer.v0+json": {
       "columns": [
        {
         "name": "index",
         "rawType": "int64",
         "type": "integer"
        },
        {
         "name": "userid",
         "rawType": "int64",
         "type": "integer"
        },
        {
         "name": "version",
         "rawType": "object",
         "type": "string"
        },
        {
         "name": "sum_gamerounds",
         "rawType": "int64",
         "type": "integer"
        },
        {
         "name": "retention_1",
         "rawType": "bool",
         "type": "boolean"
        },
        {
         "name": "retention_7",
         "rawType": "bool",
         "type": "boolean"
        }
       ],
       "ref": "b1abf9bf-08e2-45b5-9929-4a2f2f819b2d",
       "rows": [
        [
         "0",
         "116",
         "gate_30",
         "3",
         "False",
         "False"
        ],
        [
         "1",
         "337",
         "gate_30",
         "38",
         "True",
         "False"
        ],
        [
         "2",
         "377",
         "gate_40",
         "165",
         "True",
         "False"
        ],
        [
         "3",
         "483",
         "gate_40",
         "1",
         "False",
         "False"
        ],
        [
         "4",
         "488",
         "gate_40",
         "179",
         "True",
         "True"
        ],
        [
         "5",
         "540",
         "gate_40",
         "187",
         "True",
         "True"
        ],
        [
         "6",
         "1066",
         "gate_30",
         "0",
         "False",
         "False"
        ],
        [
         "7",
         "1444",
         "gate_40",
         "2",
         "False",
         "False"
        ],
        [
         "8",
         "1574",
         "gate_40",
         "108",
         "True",
         "True"
        ],
        [
         "9",
         "1587",
         "gate_40",
         "153",
         "True",
         "False"
        ]
       ],
       "shape": {
        "columns": 5,
        "rows": 10
       }
      },
      "text/html": [
       "<div>\n",
       "<style scoped>\n",
       "    .dataframe tbody tr th:only-of-type {\n",
       "        vertical-align: middle;\n",
       "    }\n",
       "\n",
       "    .dataframe tbody tr th {\n",
       "        vertical-align: top;\n",
       "    }\n",
       "\n",
       "    .dataframe thead th {\n",
       "        text-align: right;\n",
       "    }\n",
       "</style>\n",
       "<table border=\"1\" class=\"dataframe\">\n",
       "  <thead>\n",
       "    <tr style=\"text-align: right;\">\n",
       "      <th></th>\n",
       "      <th>userid</th>\n",
       "      <th>version</th>\n",
       "      <th>sum_gamerounds</th>\n",
       "      <th>retention_1</th>\n",
       "      <th>retention_7</th>\n",
       "    </tr>\n",
       "  </thead>\n",
       "  <tbody>\n",
       "    <tr>\n",
       "      <th>0</th>\n",
       "      <td>116</td>\n",
       "      <td>gate_30</td>\n",
       "      <td>3</td>\n",
       "      <td>False</td>\n",
       "      <td>False</td>\n",
       "    </tr>\n",
       "    <tr>\n",
       "      <th>1</th>\n",
       "      <td>337</td>\n",
       "      <td>gate_30</td>\n",
       "      <td>38</td>\n",
       "      <td>True</td>\n",
       "      <td>False</td>\n",
       "    </tr>\n",
       "    <tr>\n",
       "      <th>2</th>\n",
       "      <td>377</td>\n",
       "      <td>gate_40</td>\n",
       "      <td>165</td>\n",
       "      <td>True</td>\n",
       "      <td>False</td>\n",
       "    </tr>\n",
       "    <tr>\n",
       "      <th>3</th>\n",
       "      <td>483</td>\n",
       "      <td>gate_40</td>\n",
       "      <td>1</td>\n",
       "      <td>False</td>\n",
       "      <td>False</td>\n",
       "    </tr>\n",
       "    <tr>\n",
       "      <th>4</th>\n",
       "      <td>488</td>\n",
       "      <td>gate_40</td>\n",
       "      <td>179</td>\n",
       "      <td>True</td>\n",
       "      <td>True</td>\n",
       "    </tr>\n",
       "    <tr>\n",
       "      <th>5</th>\n",
       "      <td>540</td>\n",
       "      <td>gate_40</td>\n",
       "      <td>187</td>\n",
       "      <td>True</td>\n",
       "      <td>True</td>\n",
       "    </tr>\n",
       "    <tr>\n",
       "      <th>6</th>\n",
       "      <td>1066</td>\n",
       "      <td>gate_30</td>\n",
       "      <td>0</td>\n",
       "      <td>False</td>\n",
       "      <td>False</td>\n",
       "    </tr>\n",
       "    <tr>\n",
       "      <th>7</th>\n",
       "      <td>1444</td>\n",
       "      <td>gate_40</td>\n",
       "      <td>2</td>\n",
       "      <td>False</td>\n",
       "      <td>False</td>\n",
       "    </tr>\n",
       "    <tr>\n",
       "      <th>8</th>\n",
       "      <td>1574</td>\n",
       "      <td>gate_40</td>\n",
       "      <td>108</td>\n",
       "      <td>True</td>\n",
       "      <td>True</td>\n",
       "    </tr>\n",
       "    <tr>\n",
       "      <th>9</th>\n",
       "      <td>1587</td>\n",
       "      <td>gate_40</td>\n",
       "      <td>153</td>\n",
       "      <td>True</td>\n",
       "      <td>False</td>\n",
       "    </tr>\n",
       "  </tbody>\n",
       "</table>\n",
       "</div>"
      ],
      "text/plain": [
       "   userid  version  sum_gamerounds  retention_1  retention_7\n",
       "0     116  gate_30               3        False        False\n",
       "1     337  gate_30              38         True        False\n",
       "2     377  gate_40             165         True        False\n",
       "3     483  gate_40               1        False        False\n",
       "4     488  gate_40             179         True         True\n",
       "5     540  gate_40             187         True         True\n",
       "6    1066  gate_30               0        False        False\n",
       "7    1444  gate_40               2        False        False\n",
       "8    1574  gate_40             108         True         True\n",
       "9    1587  gate_40             153         True        False"
      ]
     },
     "execution_count": 17,
     "metadata": {},
     "output_type": "execute_result"
    }
   ],
   "source": [
    "import sys, os\n",
    "sys.path.append(os.path.abspath(\"..\"))\n",
    "\n",
    "import pandas as pd\n",
    "import matplotlib.pyplot as plt\n",
    "import seaborn as sns\n",
    "\n",
    "from src.data_loader import load_cookie_cats\n",
    "\n",
    "df = load_cookie_cats()\n",
    "df.head(10)"
   ]
  },
  {
   "cell_type": "code",
   "execution_count": 26,
   "id": "71bb4ab7",
   "metadata": {},
   "outputs": [
    {
     "name": "stdout",
     "output_type": "stream",
     "text": [
      "shape:\n",
      "(90189, 5)\n",
      "\n",
      "dtypes:\n",
      "userid             int64\n",
      "version           object\n",
      "sum_gamerounds     int64\n",
      "retention_1         bool\n",
      "retention_7         bool\n",
      "dtype: object\n",
      "\n",
      "describe sum_gamerounds:\n",
      "count    90189.000000\n",
      "mean        51.872457\n",
      "std        195.050858\n",
      "min          0.000000\n",
      "25%          5.000000\n",
      "50%         16.000000\n",
      "75%         51.000000\n",
      "max      49854.000000\n",
      "Name: sum_gamerounds, dtype: float64\n",
      "\n",
      "versions counts:\n",
      "version\n",
      "gate_40    45489\n",
      "gate_30    44700\n",
      "Name: count, dtype: int64\n",
      "\n"
     ]
    }
   ],
   "source": [
    "print(f'shape:\\n{df.shape}\\n')\n",
    "print(f'dtypes:\\n{df.dtypes}\\n')\n",
    "print(f'describe sum_gamerounds:\\n{df.sum_gamerounds.describe()}\\n')\n",
    "print(f'versions counts:\\n{df.version.value_counts()}\\n')"
   ]
  },
  {
   "cell_type": "code",
   "execution_count": 38,
   "id": "9eff8e43",
   "metadata": {},
   "outputs": [
    {
     "data": {
      "application/vnd.microsoft.datawrangler.viewer.v0+json": {
       "columns": [
        {
         "name": "version",
         "rawType": "object",
         "type": "string"
        },
        {
         "name": "mean",
         "rawType": "float64",
         "type": "float"
        },
        {
         "name": "median",
         "rawType": "float64",
         "type": "float"
        },
        {
         "name": "max",
         "rawType": "int64",
         "type": "integer"
        }
       ],
       "ref": "790bd99f-8e84-452e-bf44-21bc4ddb0fd1",
       "rows": [
        [
         "gate_30",
         "52.45626398210291",
         "17.0",
         "49854"
        ],
        [
         "gate_40",
         "51.29877552814966",
         "16.0",
         "2640"
        ]
       ],
       "shape": {
        "columns": 3,
        "rows": 2
       }
      },
      "text/html": [
       "<div>\n",
       "<style scoped>\n",
       "    .dataframe tbody tr th:only-of-type {\n",
       "        vertical-align: middle;\n",
       "    }\n",
       "\n",
       "    .dataframe tbody tr th {\n",
       "        vertical-align: top;\n",
       "    }\n",
       "\n",
       "    .dataframe thead th {\n",
       "        text-align: right;\n",
       "    }\n",
       "</style>\n",
       "<table border=\"1\" class=\"dataframe\">\n",
       "  <thead>\n",
       "    <tr style=\"text-align: right;\">\n",
       "      <th></th>\n",
       "      <th>mean</th>\n",
       "      <th>median</th>\n",
       "      <th>max</th>\n",
       "    </tr>\n",
       "    <tr>\n",
       "      <th>version</th>\n",
       "      <th></th>\n",
       "      <th></th>\n",
       "      <th></th>\n",
       "    </tr>\n",
       "  </thead>\n",
       "  <tbody>\n",
       "    <tr>\n",
       "      <th>gate_30</th>\n",
       "      <td>52.456264</td>\n",
       "      <td>17.0</td>\n",
       "      <td>49854</td>\n",
       "    </tr>\n",
       "    <tr>\n",
       "      <th>gate_40</th>\n",
       "      <td>51.298776</td>\n",
       "      <td>16.0</td>\n",
       "      <td>2640</td>\n",
       "    </tr>\n",
       "  </tbody>\n",
       "</table>\n",
       "</div>"
      ],
      "text/plain": [
       "              mean  median    max\n",
       "version                          \n",
       "gate_30  52.456264    17.0  49854\n",
       "gate_40  51.298776    16.0   2640"
      ]
     },
     "execution_count": 38,
     "metadata": {},
     "output_type": "execute_result"
    }
   ],
   "source": [
    "df.groupby(\"version\")['sum_gamerounds'].agg(['mean','median','max'])\n"
   ]
  },
  {
   "cell_type": "code",
   "execution_count": null,
   "id": "023388d5",
   "metadata": {},
   "outputs": [
    {
     "data": {
      "image/png": "[encoded data removed]",
      "text/plain": [
       "<Figure size 640x480 with 1 Axes>"
      ]
     },
     "metadata": {},
     "output_type": "display_data"
    }
   ],
   "source": [
    "df['sum_gamerounds'].plot(kind='hist', bins=100, log=True)\n",
    "plt.title(\"Distribution of game rounds played\")\n",
    "plt.show()\n"
   ]
  },
  {
   "cell_type": "code",
   "execution_count": 34,
   "id": "7f1af689",
   "metadata": {},
   "outputs": [
    {
     "data": {
      "image/png": "[encoded data removed]",
      "text/plain": [
       "<Figure size 640x480 with 1 Axes>"
      ]
     },
     "metadata": {},
     "output_type": "display_data"
    },
    {
     "data": {
      "application/vnd.microsoft.datawrangler.viewer.v0+json": {
       "columns": [
        {
         "name": "version",
         "rawType": "object",
         "type": "string"
        },
        {
         "name": "sum_gamerounds",
         "rawType": "float64",
         "type": "float"
        }
       ],
       "ref": "1b45a3f1-72c7-4e20-add8-87a9e6eedbc6",
       "rows": [
        [
         "gate_30",
         "52.45626398210291"
        ],
        [
         "gate_40",
         "51.29877552814966"
        ]
       ],
       "shape": {
        "columns": 1,
        "rows": 2
       }
      },
      "text/plain": [
       "version\n",
       "gate_30    52.456264\n",
       "gate_40    51.298776\n",
       "Name: sum_gamerounds, dtype: float64"
      ]
     },
     "execution_count": 34,
     "metadata": {},
     "output_type": "execute_result"
    }
   ],
   "source": [
    "sns.boxplot(x=\"version\", y=\"sum_gamerounds\", data=df)\n",
    "plt.title(\"Game rounds distribution by group\")\n",
    "plt.show()\n",
    "\n",
    "df.groupby(\"version\")['sum_gamerounds'].mean()"
   ]
  },
  {
   "cell_type": "markdown",
   "id": "71848682",
   "metadata": {},
   "source": [
    "### we can clearly see a dragged mean value by an ouliner so I got rid of it for clearer view"
   ]
  },
  {
   "cell_type": "code",
   "execution_count": null,
   "id": "7096f6f9",
   "metadata": {},
   "outputs": [
    {
     "data": {
      "application/vnd.microsoft.datawrangler.viewer.v0+json": {
       "columns": [
        {
         "name": "index",
         "rawType": "int64",
         "type": "integer"
        },
        {
         "name": "userid",
         "rawType": "int64",
         "type": "integer"
        },
        {
         "name": "version",
         "rawType": "object",
         "type": "string"
        },
        {
         "name": "sum_gamerounds",
         "rawType": "int64",
         "type": "integer"
        },
        {
         "name": "retention_1",
         "rawType": "bool",
         "type": "boolean"
        },
        {
         "name": "retention_7",
         "rawType": "bool",
         "type": "boolean"
        },
        {
         "name": "heavy_player",
         "rawType": "bool",
         "type": "boolean"
        }
       ],
       "ref": "b9e3aa0c-21b0-4106-907e-b736c31cbdc4",
       "rows": [
        [
         "57702",
         "6390605",
         "gate_30",
         "49854",
         "False",
         "True",
         "True"
        ]
       ],
       "shape": {
        "columns": 6,
        "rows": 1
       }
      },
      "text/html": [
       "<div>\n",
       "<style scoped>\n",
       "    .dataframe tbody tr th:only-of-type {\n",
       "        vertical-align: middle;\n",
       "    }\n",
       "\n",
       "    .dataframe tbody tr th {\n",
       "        vertical-align: top;\n",
       "    }\n",
       "\n",
       "    .dataframe thead th {\n",
       "        text-align: right;\n",
       "    }\n",
       "</style>\n",
       "<table border=\"1\" class=\"dataframe\">\n",
       "  <thead>\n",
       "    <tr style=\"text-align: right;\">\n",
       "      <th></th>\n",
       "      <th>userid</th>\n",
       "      <th>version</th>\n",
       "      <th>sum_gamerounds</th>\n",
       "      <th>retention_1</th>\n",
       "      <th>retention_7</th>\n",
       "      <th>heavy_player</th>\n",
       "    </tr>\n",
       "  </thead>\n",
       "  <tbody>\n",
       "    <tr>\n",
       "      <th>57702</th>\n",
       "      <td>6390605</td>\n",
       "      <td>gate_30</td>\n",
       "      <td>49854</td>\n",
       "      <td>False</td>\n",
       "      <td>True</td>\n",
       "      <td>True</td>\n",
       "    </tr>\n",
       "  </tbody>\n",
       "</table>\n",
       "</div>"
      ],
      "text/plain": [
       "        userid  version  sum_gamerounds  retention_1  retention_7  \\\n",
       "57702  6390605  gate_30           49854        False         True   \n",
       "\n",
       "       heavy_player  \n",
       "57702          True  "
      ]
     },
     "execution_count": 49,
     "metadata": {},
     "output_type": "execute_result"
    }
   ],
   "source": [
    "# outliners:\n",
    "df[df['sum_gamerounds'] > 5000]"
   ]
  },
  {
   "cell_type": "code",
   "execution_count": 50,
   "id": "85854e5d",
   "metadata": {},
   "outputs": [],
   "source": [
    "data_without_outliner = df[df['sum_gamerounds'] < 5000]"
   ]
  },
  {
   "cell_type": "code",
   "execution_count": null,
   "id": "18edf028",
   "metadata": {},
   "outputs": [
    {
     "data": {
      "image/png": "[encoded data removed]",
      "text/plain": [
       "<Figure size 640x480 with 1 Axes>"
      ]
     },
     "metadata": {},
     "output_type": "display_data"
    },
    {
     "data": {
      "image/png": "[encoded data removed]",
      "text/plain": [
       "<Figure size 640x480 with 1 Axes>"
      ]
     },
     "metadata": {},
     "output_type": "display_data"
    }
   ],
   "source": [
    "sns.boxplot(x=\"version\", y=\"sum_gamerounds\", data=data_without_outliner)\n",
    "plt.title(\"Game rounds (capped at <5000)\")\n",
    "plt.show()\n",
    "\n",
    "data_without_outliner['sum_gamerounds'].plot(kind='hist', bins=100, log=True)\n",
    "plt.title(\"Distribution of game rounds played\")\n",
    "plt.show()"
   ]
  },
  {
   "cell_type": "markdown",
   "id": "5af0e51a",
   "metadata": {},
   "source": [
    "# Retention Analysis:"
   ]
  },
  {
   "cell_type": "code",
   "execution_count": 52,
   "id": "7ecbcee8",
   "metadata": {},
   "outputs": [
    {
     "name": "stdout",
     "output_type": "stream",
     "text": [
      "   version  retention_1  retention_7\n",
      "0  gate_30     0.448188     0.190201\n",
      "1  gate_40     0.442283     0.182000\n"
     ]
    },
    {
     "data": {
      "image/png": "[encoded data removed]",
      "text/plain": [
       "<Figure size 600x400 with 1 Axes>"
      ]
     },
     "metadata": {},
     "output_type": "display_data"
    }
   ],
   "source": [
    "retention = df.groupby(\"version\")[['retention_1','retention_7']].mean().reset_index()\n",
    "print(retention)\n",
    "\n",
    "retention.plot(x=\"version\", y=[\"retention_1\",\"retention_7\"], kind=\"bar\", figsize=(6,4))\n",
    "plt.title(\"Retention rates by group (D1 & D7)\")\n",
    "plt.ylabel(\"Proportion retained\")\n",
    "plt.show()\n"
   ]
  },
  {
   "cell_type": "code",
   "execution_count": 60,
   "id": "46d76797",
   "metadata": {},
   "outputs": [
    {
     "data": {
      "image/png": "[encoded data removed]",
      "text/plain": [
       "<Figure size 640x480 with 1 Axes>"
      ]
     },
     "metadata": {},
     "output_type": "display_data"
    },
    {
     "data": {
      "application/vnd.microsoft.datawrangler.viewer.v0+json": {
       "columns": [
        {
         "name": "('version', 'retention_7')",
         "rawType": "object",
         "type": "unknown"
        },
        {
         "name": "sum_gamerounds",
         "rawType": "float64",
         "type": "float"
        }
       ],
       "ref": "82db4b71-8ac1-4a17-8008-a71816a24ef0",
       "rows": [
        [
         "('gate_30', np.False_)",
         "11.0"
        ],
        [
         "('gate_30', np.True_)",
         "105.0"
        ],
        [
         "('gate_40', np.False_)",
         "11.0"
        ],
        [
         "('gate_40', np.True_)",
         "111.0"
        ]
       ],
       "shape": {
        "columns": 1,
        "rows": 4
       }
      },
      "text/plain": [
       "version  retention_7\n",
       "gate_30  False           11.0\n",
       "         True           105.0\n",
       "gate_40  False           11.0\n",
       "         True           111.0\n",
       "Name: sum_gamerounds, dtype: float64"
      ]
     },
     "execution_count": 60,
     "metadata": {},
     "output_type": "execute_result"
    }
   ],
   "source": [
    "sns.histplot(data=df, x=\"sum_gamerounds\", hue=\"retention_7\", bins=50, element=\"step\", log_scale=(True, False))\n",
    "plt.title(\"Game rounds vs Day 7 retention\")\n",
    "plt.show()\n",
    "\n",
    "df.groupby(['version','retention_7'])['sum_gamerounds'].median()\n"
   ]
  },
  {
   "cell_type": "code",
   "execution_count": 54,
   "id": "41a339e4",
   "metadata": {},
   "outputs": [
    {
     "data": {
      "application/vnd.microsoft.datawrangler.viewer.v0+json": {
       "columns": [
        {
         "name": "heavy_player",
         "rawType": "bool",
         "type": "boolean"
        },
        {
         "name": "False",
         "rawType": "float64",
         "type": "float"
        },
        {
         "name": "True",
         "rawType": "float64",
         "type": "float"
        }
       ],
       "ref": "ba912ac4-49da-4d6b-b6af-6e277b39ac39",
       "rows": [
        [
         "False",
         "0.8385645254244802",
         "0.1614354745755198"
        ],
        [
         "True",
         "0.2707709373266778",
         "0.7292290626733222"
        ]
       ],
       "shape": {
        "columns": 2,
        "rows": 2
       }
      },
      "text/html": [
       "<div>\n",
       "<style scoped>\n",
       "    .dataframe tbody tr th:only-of-type {\n",
       "        vertical-align: middle;\n",
       "    }\n",
       "\n",
       "    .dataframe tbody tr th {\n",
       "        vertical-align: top;\n",
       "    }\n",
       "\n",
       "    .dataframe thead th {\n",
       "        text-align: right;\n",
       "    }\n",
       "</style>\n",
       "<table border=\"1\" class=\"dataframe\">\n",
       "  <thead>\n",
       "    <tr style=\"text-align: right;\">\n",
       "      <th>retention_1</th>\n",
       "      <th>False</th>\n",
       "      <th>True</th>\n",
       "    </tr>\n",
       "    <tr>\n",
       "      <th>heavy_player</th>\n",
       "      <th></th>\n",
       "      <th></th>\n",
       "    </tr>\n",
       "  </thead>\n",
       "  <tbody>\n",
       "    <tr>\n",
       "      <th>False</th>\n",
       "      <td>0.838565</td>\n",
       "      <td>0.161435</td>\n",
       "    </tr>\n",
       "    <tr>\n",
       "      <th>True</th>\n",
       "      <td>0.270771</td>\n",
       "      <td>0.729229</td>\n",
       "    </tr>\n",
       "  </tbody>\n",
       "</table>\n",
       "</div>"
      ],
      "text/plain": [
       "retention_1      False     True \n",
       "heavy_player                    \n",
       "False         0.838565  0.161435\n",
       "True          0.270771  0.729229"
      ]
     },
     "execution_count": 54,
     "metadata": {},
     "output_type": "execute_result"
    }
   ],
   "source": [
    "df['heavy_player'] = df['sum_gamerounds'] > df['sum_gamerounds'].median()\n",
    "\n",
    "pd.crosstab(df['heavy_player'], df['retention_1'], normalize='index')\n"
   ]
  },
  {
   "cell_type": "code",
   "execution_count": 53,
   "id": "3c076d54",
   "metadata": {},
   "outputs": [
    {
     "data": {
      "application/vnd.microsoft.datawrangler.viewer.v0+json": {
       "columns": [
        {
         "name": "heavy_player",
         "rawType": "bool",
         "type": "boolean"
        },
        {
         "name": "False",
         "rawType": "float64",
         "type": "float"
        },
        {
         "name": "True",
         "rawType": "float64",
         "type": "float"
        }
       ],
       "ref": "76c44548-04cd-4875-8105-5a153e175325",
       "rows": [
        [
         "False",
         "0.9743760251806535",
         "0.025623974819346543"
        ],
        [
         "True",
         "0.6533555185801442",
         "0.3466444814198558"
        ]
       ],
       "shape": {
        "columns": 2,
        "rows": 2
       }
      },
      "text/html": [
       "<div>\n",
       "<style scoped>\n",
       "    .dataframe tbody tr th:only-of-type {\n",
       "        vertical-align: middle;\n",
       "    }\n",
       "\n",
       "    .dataframe tbody tr th {\n",
       "        vertical-align: top;\n",
       "    }\n",
       "\n",
       "    .dataframe thead th {\n",
       "        text-align: right;\n",
       "    }\n",
       "</style>\n",
       "<table border=\"1\" class=\"dataframe\">\n",
       "  <thead>\n",
       "    <tr style=\"text-align: right;\">\n",
       "      <th>retention_7</th>\n",
       "      <th>False</th>\n",
       "      <th>True</th>\n",
       "    </tr>\n",
       "    <tr>\n",
       "      <th>heavy_player</th>\n",
       "      <th></th>\n",
       "      <th></th>\n",
       "    </tr>\n",
       "  </thead>\n",
       "  <tbody>\n",
       "    <tr>\n",
       "      <th>False</th>\n",
       "      <td>0.974376</td>\n",
       "      <td>0.025624</td>\n",
       "    </tr>\n",
       "    <tr>\n",
       "      <th>True</th>\n",
       "      <td>0.653356</td>\n",
       "      <td>0.346644</td>\n",
       "    </tr>\n",
       "  </tbody>\n",
       "</table>\n",
       "</div>"
      ],
      "text/plain": [
       "retention_7      False     True \n",
       "heavy_player                    \n",
       "False         0.974376  0.025624\n",
       "True          0.653356  0.346644"
      ]
     },
     "execution_count": 53,
     "metadata": {},
     "output_type": "execute_result"
    }
   ],
   "source": [
    "df['heavy_player'] = df['sum_gamerounds'] > df['sum_gamerounds'].median()\n",
    "\n",
    "pd.crosstab(df['heavy_player'], df['retention_7'], normalize='index')\n"
   ]
  },
  {
   "cell_type": "code",
   "execution_count": null,
   "id": "6b93ba8a",
   "metadata": {},
   "outputs": [],
   "source": []
  }
 ],
 "metadata": {
  "kernelspec": {
   "display_name": ".venv",
   "language": "python",
   "name": "python3"
  },
  "language_info": {
   "codemirror_mode": {
    "name": "ipython",
    "version": 3
   },
   "file_extension": ".py",
   "mimetype": "text/x-python",
   "name": "python",
   "nbconvert_exporter": "python",
   "pygments_lexer": "ipython3",
   "version": "3.13.7"
  }
 },
 "nbformat": 4,
 "nbformat_minor": 5
}
