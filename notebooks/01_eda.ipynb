{
 "cells": [
  {
   "cell_type": "code",
   "execution_count": 1,
   "id": "cd7bf03f",
   "metadata": {},
   "outputs": [
    {
     "name": "stderr",
     "output_type": "stream",
     "text": [
      "/Users/stolero.ofek/Library/Mobile Documents/com~apple~CloudDocs/Files/Projects/Repos/cookiecats-abtest-analytics/.venv/lib/python3.13/site-packages/tqdm/auto.py:21: TqdmWarning: IProgress not found. Please update jupyter and ipywidgets. See https://ipywidgets.readthedocs.io/en/stable/user_install.html\n",
      "  from .autonotebook import tqdm as notebook_tqdm\n"
     ]
    },
    {
     "name": "stdout",
     "output_type": "stream",
     "text": [
      "Dataset path: /Users/stolero.ofek/.cache/kagglehub/datasets/yufengsui/mobile-games-ab-testing/versions/1\n"
     ]
    }
   ],
   "source": [
    "import sys, os\n",
    "sys.path.append(os.path.abspath(\"..\"))  # parent dir of notebooks/\n",
    "from src.data_loader import load_cookiecats\n",
    "\n",
    "df = load_cookiecats()\n"
   ]
  },
  {
   "cell_type": "code",
   "execution_count": 2,
   "id": "143766d1",
   "metadata": {},
   "outputs": [
    {
     "data": {
      "application/vnd.microsoft.datawrangler.viewer.v0+json": {
       "columns": [
        {
         "name": "index",
         "rawType": "int64",
         "type": "integer"
        },
        {
         "name": "userid",
         "rawType": "int64",
         "type": "integer"
        },
        {
         "name": "version",
         "rawType": "object",
         "type": "string"
        },
        {
         "name": "sum_gamerounds",
         "rawType": "int64",
         "type": "integer"
        },
        {
         "name": "retention_1",
         "rawType": "bool",
         "type": "boolean"
        },
        {
         "name": "retention_7",
         "rawType": "bool",
         "type": "boolean"
        }
       ],
       "ref": "5cde78af-2e90-4ee9-b958-a38a9bad69cb",
       "rows": [
        [
         "0",
         "116",
         "gate_30",
         "3",
         "False",
         "False"
        ],
        [
         "1",
         "337",
         "gate_30",
         "38",
         "True",
         "False"
        ],
        [
         "2",
         "377",
         "gate_40",
         "165",
         "True",
         "False"
        ],
        [
         "3",
         "483",
         "gate_40",
         "1",
         "False",
         "False"
        ],
        [
         "4",
         "488",
         "gate_40",
         "179",
         "True",
         "True"
        ],
        [
         "5",
         "540",
         "gate_40",
         "187",
         "True",
         "True"
        ],
        [
         "6",
         "1066",
         "gate_30",
         "0",
         "False",
         "False"
        ],
        [
         "7",
         "1444",
         "gate_40",
         "2",
         "False",
         "False"
        ],
        [
         "8",
         "1574",
         "gate_40",
         "108",
         "True",
         "True"
        ],
        [
         "9",
         "1587",
         "gate_40",
         "153",
         "True",
         "False"
        ],
        [
         "10",
         "1842",
         "gate_40",
         "3",
         "False",
         "True"
        ],
        [
         "11",
         "2101",
         "gate_30",
         "0",
         "False",
         "False"
        ],
        [
         "12",
         "2132",
         "gate_40",
         "30",
         "True",
         "False"
        ],
        [
         "13",
         "2179",
         "gate_30",
         "39",
         "True",
         "False"
        ],
        [
         "14",
         "2218",
         "gate_30",
         "305",
         "True",
         "True"
        ],
        [
         "15",
         "2382",
         "gate_30",
         "73",
         "True",
         "False"
        ],
        [
         "16",
         "2392",
         "gate_30",
         "14",
         "True",
         "False"
        ],
        [
         "17",
         "2451",
         "gate_30",
         "204",
         "True",
         "True"
        ],
        [
         "18",
         "2482",
         "gate_30",
         "108",
         "True",
         "True"
        ],
        [
         "19",
         "2502",
         "gate_40",
         "1",
         "False",
         "False"
        ],
        [
         "20",
         "2530",
         "gate_40",
         "9",
         "True",
         "False"
        ],
        [
         "21",
         "2534",
         "gate_30",
         "5",
         "True",
         "False"
        ],
        [
         "22",
         "2695",
         "gate_40",
         "45",
         "True",
         "False"
        ],
        [
         "23",
         "2729",
         "gate_30",
         "105",
         "False",
         "True"
        ],
        [
         "24",
         "2829",
         "gate_30",
         "4",
         "False",
         "False"
        ],
        [
         "25",
         "2963",
         "gate_30",
         "3",
         "False",
         "False"
        ],
        [
         "26",
         "3095",
         "gate_30",
         "0",
         "False",
         "False"
        ],
        [
         "27",
         "3132",
         "gate_40",
         "80",
         "True",
         "True"
        ],
        [
         "28",
         "3186",
         "gate_40",
         "4",
         "False",
         "False"
        ],
        [
         "29",
         "3199",
         "gate_30",
         "5",
         "False",
         "False"
        ],
        [
         "30",
         "3204",
         "gate_40",
         "53",
         "True",
         "True"
        ],
        [
         "31",
         "3413",
         "gate_30",
         "37",
         "True",
         "False"
        ],
        [
         "32",
         "3690",
         "gate_30",
         "13",
         "True",
         "False"
        ],
        [
         "33",
         "3696",
         "gate_30",
         "50",
         "False",
         "False"
        ],
        [
         "34",
         "3993",
         "gate_40",
         "202",
         "True",
         "True"
        ],
        [
         "35",
         "4076",
         "gate_40",
         "0",
         "False",
         "False"
        ],
        [
         "36",
         "4162",
         "gate_30",
         "23",
         "False",
         "False"
        ],
        [
         "37",
         "4176",
         "gate_30",
         "0",
         "False",
         "False"
        ],
        [
         "38",
         "4283",
         "gate_30",
         "103",
         "False",
         "False"
        ],
        [
         "39",
         "4594",
         "gate_30",
         "27",
         "False",
         "False"
        ],
        [
         "40",
         "4653",
         "gate_40",
         "15",
         "False",
         "False"
        ],
        [
         "41",
         "4881",
         "gate_30",
         "0",
         "False",
         "False"
        ],
        [
         "42",
         "4902",
         "gate_40",
         "1",
         "False",
         "False"
        ],
        [
         "43",
         "4916",
         "gate_40",
         "49",
         "True",
         "False"
        ],
        [
         "44",
         "4918",
         "gate_30",
         "7",
         "False",
         "False"
        ],
        [
         "45",
         "4929",
         "gate_30",
         "386",
         "True",
         "True"
        ],
        [
         "46",
         "4945",
         "gate_40",
         "25",
         "True",
         "False"
        ],
        [
         "47",
         "5066",
         "gate_30",
         "1",
         "False",
         "False"
        ],
        [
         "48",
         "5215",
         "gate_30",
         "13",
         "True",
         "False"
        ],
        [
         "49",
         "5286",
         "gate_30",
         "12",
         "True",
         "False"
        ]
       ],
       "shape": {
        "columns": 5,
        "rows": 90189
       }
      },
      "text/html": [
       "<div>\n",
       "<style scoped>\n",
       "    .dataframe tbody tr th:only-of-type {\n",
       "        vertical-align: middle;\n",
       "    }\n",
       "\n",
       "    .dataframe tbody tr th {\n",
       "        vertical-align: top;\n",
       "    }\n",
       "\n",
       "    .dataframe thead th {\n",
       "        text-align: right;\n",
       "    }\n",
       "</style>\n",
       "<table border=\"1\" class=\"dataframe\">\n",
       "  <thead>\n",
       "    <tr style=\"text-align: right;\">\n",
       "      <th></th>\n",
       "      <th>userid</th>\n",
       "      <th>version</th>\n",
       "      <th>sum_gamerounds</th>\n",
       "      <th>retention_1</th>\n",
       "      <th>retention_7</th>\n",
       "    </tr>\n",
       "  </thead>\n",
       "  <tbody>\n",
       "    <tr>\n",
       "      <th>0</th>\n",
       "      <td>116</td>\n",
       "      <td>gate_30</td>\n",
       "      <td>3</td>\n",
       "      <td>False</td>\n",
       "      <td>False</td>\n",
       "    </tr>\n",
       "    <tr>\n",
       "      <th>1</th>\n",
       "      <td>337</td>\n",
       "      <td>gate_30</td>\n",
       "      <td>38</td>\n",
       "      <td>True</td>\n",
       "      <td>False</td>\n",
       "    </tr>\n",
       "    <tr>\n",
       "      <th>2</th>\n",
       "      <td>377</td>\n",
       "      <td>gate_40</td>\n",
       "      <td>165</td>\n",
       "      <td>True</td>\n",
       "      <td>False</td>\n",
       "    </tr>\n",
       "    <tr>\n",
       "      <th>3</th>\n",
       "      <td>483</td>\n",
       "      <td>gate_40</td>\n",
       "      <td>1</td>\n",
       "      <td>False</td>\n",
       "      <td>False</td>\n",
       "    </tr>\n",
       "    <tr>\n",
       "      <th>4</th>\n",
       "      <td>488</td>\n",
       "      <td>gate_40</td>\n",
       "      <td>179</td>\n",
       "      <td>True</td>\n",
       "      <td>True</td>\n",
       "    </tr>\n",
       "    <tr>\n",
       "      <th>...</th>\n",
       "      <td>...</td>\n",
       "      <td>...</td>\n",
       "      <td>...</td>\n",
       "      <td>...</td>\n",
       "      <td>...</td>\n",
       "    </tr>\n",
       "    <tr>\n",
       "      <th>90184</th>\n",
       "      <td>9999441</td>\n",
       "      <td>gate_40</td>\n",
       "      <td>97</td>\n",
       "      <td>True</td>\n",
       "      <td>False</td>\n",
       "    </tr>\n",
       "    <tr>\n",
       "      <th>90185</th>\n",
       "      <td>9999479</td>\n",
       "      <td>gate_40</td>\n",
       "      <td>30</td>\n",
       "      <td>False</td>\n",
       "      <td>False</td>\n",
       "    </tr>\n",
       "    <tr>\n",
       "      <th>90186</th>\n",
       "      <td>9999710</td>\n",
       "      <td>gate_30</td>\n",
       "      <td>28</td>\n",
       "      <td>True</td>\n",
       "      <td>False</td>\n",
       "    </tr>\n",
       "    <tr>\n",
       "      <th>90187</th>\n",
       "      <td>9999768</td>\n",
       "      <td>gate_40</td>\n",
       "      <td>51</td>\n",
       "      <td>True</td>\n",
       "      <td>False</td>\n",
       "    </tr>\n",
       "    <tr>\n",
       "      <th>90188</th>\n",
       "      <td>9999861</td>\n",
       "      <td>gate_40</td>\n",
       "      <td>16</td>\n",
       "      <td>False</td>\n",
       "      <td>False</td>\n",
       "    </tr>\n",
       "  </tbody>\n",
       "</table>\n",
       "<p>90189 rows × 5 columns</p>\n",
       "</div>"
      ],
      "text/plain": [
       "        userid  version  sum_gamerounds  retention_1  retention_7\n",
       "0          116  gate_30               3        False        False\n",
       "1          337  gate_30              38         True        False\n",
       "2          377  gate_40             165         True        False\n",
       "3          483  gate_40               1        False        False\n",
       "4          488  gate_40             179         True         True\n",
       "...        ...      ...             ...          ...          ...\n",
       "90184  9999441  gate_40              97         True        False\n",
       "90185  9999479  gate_40              30        False        False\n",
       "90186  9999710  gate_30              28         True        False\n",
       "90187  9999768  gate_40              51         True        False\n",
       "90188  9999861  gate_40              16        False        False\n",
       "\n",
       "[90189 rows x 5 columns]"
      ]
     },
     "execution_count": 2,
     "metadata": {},
     "output_type": "execute_result"
    }
   ],
   "source": [
    "df"
   ]
  },
  {
   "cell_type": "code",
   "execution_count": null,
   "id": "71bb4ab7",
   "metadata": {},
   "outputs": [],
   "source": []
  }
 ],
 "metadata": {
  "kernelspec": {
   "display_name": ".venv",
   "language": "python",
   "name": "python3"
  },
  "language_info": {
   "codemirror_mode": {
    "name": "ipython",
    "version": 3
   },
   "file_extension": ".py",
   "mimetype": "text/x-python",
   "name": "python",
   "nbconvert_exporter": "python",
   "pygments_lexer": "ipython3",
   "version": "3.13.7"
  }
 },
 "nbformat": 4,
 "nbformat_minor": 5
}
