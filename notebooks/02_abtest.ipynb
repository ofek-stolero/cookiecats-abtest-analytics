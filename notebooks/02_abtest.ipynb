{
 "cells": [
  {
   "cell_type": "code",
   "execution_count": 2,
   "id": "61045c77",
   "metadata": {},
   "outputs": [
    {
     "name": "stderr",
     "output_type": "stream",
     "text": [
      "/Users/stolero.ofek/Library/Mobile Documents/com~apple~CloudDocs/Files/Projects/Repos/cookiecats-abtest-analytics/.venv/lib/python3.13/site-packages/tqdm/auto.py:21: TqdmWarning: IProgress not found. Please update jupyter and ipywidgets. See https://ipywidgets.readthedocs.io/en/stable/user_install.html\n",
      "  from .autonotebook import tqdm as notebook_tqdm\n"
     ]
    }
   ],
   "source": [
    "import sys, os\n",
    "sys.path.append(os.path.abspath(\"..\"))\n",
    "\n",
    "import pandas as pd\n",
    "import matplotlib.pyplot as plt\n",
    "import seaborn as sns\n",
    "import numpy as np\n",
    "from scipy import stats\n",
    "import statsmodels.api as sm\n",
    "\n",
    "from src.data_loader import load_cookie_cats"
   ]
  },
  {
   "cell_type": "code",
   "execution_count": 5,
   "id": "6e73ab11",
   "metadata": {},
   "outputs": [
    {
     "name": "stdout",
     "output_type": "stream",
     "text": [
      "Dataset path: /Users/stolero.ofek/.cache/kagglehub/datasets/yufengsui/mobile-games-ab-testing/versions/1\n"
     ]
    },
    {
     "data": {
      "application/vnd.microsoft.datawrangler.viewer.v0+json": {
       "columns": [
        {
         "name": "index",
         "rawType": "int64",
         "type": "integer"
        },
        {
         "name": "userid",
         "rawType": "int64",
         "type": "integer"
        },
        {
         "name": "version",
         "rawType": "object",
         "type": "string"
        },
        {
         "name": "sum_gamerounds",
         "rawType": "int64",
         "type": "integer"
        },
        {
         "name": "retention_1",
         "rawType": "bool",
         "type": "boolean"
        },
        {
         "name": "retention_7",
         "rawType": "bool",
         "type": "boolean"
        }
       ],
       "ref": "794b0e59-d6f0-439b-9c7e-a8cad2b1b87d",
       "rows": [
        [
         "0",
         "116",
         "gate_30",
         "3",
         "False",
         "False"
        ],
        [
         "1",
         "337",
         "gate_30",
         "38",
         "True",
         "False"
        ],
        [
         "2",
         "377",
         "gate_40",
         "165",
         "True",
         "False"
        ],
        [
         "3",
         "483",
         "gate_40",
         "1",
         "False",
         "False"
        ],
        [
         "4",
         "488",
         "gate_40",
         "179",
         "True",
         "True"
        ],
        [
         "5",
         "540",
         "gate_40",
         "187",
         "True",
         "True"
        ],
        [
         "6",
         "1066",
         "gate_30",
         "0",
         "False",
         "False"
        ],
        [
         "7",
         "1444",
         "gate_40",
         "2",
         "False",
         "False"
        ],
        [
         "8",
         "1574",
         "gate_40",
         "108",
         "True",
         "True"
        ],
        [
         "9",
         "1587",
         "gate_40",
         "153",
         "True",
         "False"
        ]
       ],
       "shape": {
        "columns": 5,
        "rows": 10
       }
      },
      "text/html": [
       "<div>\n",
       "<style scoped>\n",
       "    .dataframe tbody tr th:only-of-type {\n",
       "        vertical-align: middle;\n",
       "    }\n",
       "\n",
       "    .dataframe tbody tr th {\n",
       "        vertical-align: top;\n",
       "    }\n",
       "\n",
       "    .dataframe thead th {\n",
       "        text-align: right;\n",
       "    }\n",
       "</style>\n",
       "<table border=\"1\" class=\"dataframe\">\n",
       "  <thead>\n",
       "    <tr style=\"text-align: right;\">\n",
       "      <th></th>\n",
       "      <th>userid</th>\n",
       "      <th>version</th>\n",
       "      <th>sum_gamerounds</th>\n",
       "      <th>retention_1</th>\n",
       "      <th>retention_7</th>\n",
       "    </tr>\n",
       "  </thead>\n",
       "  <tbody>\n",
       "    <tr>\n",
       "      <th>0</th>\n",
       "      <td>116</td>\n",
       "      <td>gate_30</td>\n",
       "      <td>3</td>\n",
       "      <td>False</td>\n",
       "      <td>False</td>\n",
       "    </tr>\n",
       "    <tr>\n",
       "      <th>1</th>\n",
       "      <td>337</td>\n",
       "      <td>gate_30</td>\n",
       "      <td>38</td>\n",
       "      <td>True</td>\n",
       "      <td>False</td>\n",
       "    </tr>\n",
       "    <tr>\n",
       "      <th>2</th>\n",
       "      <td>377</td>\n",
       "      <td>gate_40</td>\n",
       "      <td>165</td>\n",
       "      <td>True</td>\n",
       "      <td>False</td>\n",
       "    </tr>\n",
       "    <tr>\n",
       "      <th>3</th>\n",
       "      <td>483</td>\n",
       "      <td>gate_40</td>\n",
       "      <td>1</td>\n",
       "      <td>False</td>\n",
       "      <td>False</td>\n",
       "    </tr>\n",
       "    <tr>\n",
       "      <th>4</th>\n",
       "      <td>488</td>\n",
       "      <td>gate_40</td>\n",
       "      <td>179</td>\n",
       "      <td>True</td>\n",
       "      <td>True</td>\n",
       "    </tr>\n",
       "    <tr>\n",
       "      <th>5</th>\n",
       "      <td>540</td>\n",
       "      <td>gate_40</td>\n",
       "      <td>187</td>\n",
       "      <td>True</td>\n",
       "      <td>True</td>\n",
       "    </tr>\n",
       "    <tr>\n",
       "      <th>6</th>\n",
       "      <td>1066</td>\n",
       "      <td>gate_30</td>\n",
       "      <td>0</td>\n",
       "      <td>False</td>\n",
       "      <td>False</td>\n",
       "    </tr>\n",
       "    <tr>\n",
       "      <th>7</th>\n",
       "      <td>1444</td>\n",
       "      <td>gate_40</td>\n",
       "      <td>2</td>\n",
       "      <td>False</td>\n",
       "      <td>False</td>\n",
       "    </tr>\n",
       "    <tr>\n",
       "      <th>8</th>\n",
       "      <td>1574</td>\n",
       "      <td>gate_40</td>\n",
       "      <td>108</td>\n",
       "      <td>True</td>\n",
       "      <td>True</td>\n",
       "    </tr>\n",
       "    <tr>\n",
       "      <th>9</th>\n",
       "      <td>1587</td>\n",
       "      <td>gate_40</td>\n",
       "      <td>153</td>\n",
       "      <td>True</td>\n",
       "      <td>False</td>\n",
       "    </tr>\n",
       "  </tbody>\n",
       "</table>\n",
       "</div>"
      ],
      "text/plain": [
       "   userid  version  sum_gamerounds  retention_1  retention_7\n",
       "0     116  gate_30               3        False        False\n",
       "1     337  gate_30              38         True        False\n",
       "2     377  gate_40             165         True        False\n",
       "3     483  gate_40               1        False        False\n",
       "4     488  gate_40             179         True         True\n",
       "5     540  gate_40             187         True         True\n",
       "6    1066  gate_30               0        False        False\n",
       "7    1444  gate_40               2        False        False\n",
       "8    1574  gate_40             108         True         True\n",
       "9    1587  gate_40             153         True        False"
      ]
     },
     "execution_count": 5,
     "metadata": {},
     "output_type": "execute_result"
    }
   ],
   "source": [
    "df = load_cookie_cats()\n",
    "df.head(10)"
   ]
  },
  {
   "cell_type": "code",
   "execution_count": 6,
   "id": "9f812b21",
   "metadata": {},
   "outputs": [
    {
     "data": {
      "application/vnd.microsoft.datawrangler.viewer.v0+json": {
       "columns": [
        {
         "name": "version",
         "rawType": "object",
         "type": "string"
        },
        {
         "name": "retained",
         "rawType": "int64",
         "type": "integer"
        },
        {
         "name": "total",
         "rawType": "int64",
         "type": "integer"
        },
        {
         "name": "rate",
         "rawType": "float64",
         "type": "float"
        }
       ],
       "ref": "bf876219-35c0-483f-bebc-c14348ecaa15",
       "rows": [
        [
         "gate_30",
         "8502",
         "44700",
         "0.19020134228187918"
        ],
        [
         "gate_40",
         "8279",
         "45489",
         "0.18200004396667327"
        ]
       ],
       "shape": {
        "columns": 3,
        "rows": 2
       }
      },
      "text/html": [
       "<div>\n",
       "<style scoped>\n",
       "    .dataframe tbody tr th:only-of-type {\n",
       "        vertical-align: middle;\n",
       "    }\n",
       "\n",
       "    .dataframe tbody tr th {\n",
       "        vertical-align: top;\n",
       "    }\n",
       "\n",
       "    .dataframe thead th {\n",
       "        text-align: right;\n",
       "    }\n",
       "</style>\n",
       "<table border=\"1\" class=\"dataframe\">\n",
       "  <thead>\n",
       "    <tr style=\"text-align: right;\">\n",
       "      <th></th>\n",
       "      <th>retained</th>\n",
       "      <th>total</th>\n",
       "      <th>rate</th>\n",
       "    </tr>\n",
       "    <tr>\n",
       "      <th>version</th>\n",
       "      <th></th>\n",
       "      <th></th>\n",
       "      <th></th>\n",
       "    </tr>\n",
       "  </thead>\n",
       "  <tbody>\n",
       "    <tr>\n",
       "      <th>gate_30</th>\n",
       "      <td>8502</td>\n",
       "      <td>44700</td>\n",
       "      <td>0.190201</td>\n",
       "    </tr>\n",
       "    <tr>\n",
       "      <th>gate_40</th>\n",
       "      <td>8279</td>\n",
       "      <td>45489</td>\n",
       "      <td>0.182000</td>\n",
       "    </tr>\n",
       "  </tbody>\n",
       "</table>\n",
       "</div>"
      ],
      "text/plain": [
       "         retained  total      rate\n",
       "version                           \n",
       "gate_30      8502  44700  0.190201\n",
       "gate_40      8279  45489  0.182000"
      ]
     },
     "execution_count": 6,
     "metadata": {},
     "output_type": "execute_result"
    }
   ],
   "source": [
    "# Count retained users (successes) and total users by version\n",
    "summary = df.groupby(\"version\")['retention_7'].agg(['sum','count'])\n",
    "summary.columns = ['retained','total']\n",
    "summary['rate'] = summary['retained'] / summary['total']\n",
    "summary"
   ]
  },
  {
   "cell_type": "code",
   "execution_count": 7,
   "id": "a892c9d4",
   "metadata": {},
   "outputs": [
    {
     "name": "stdout",
     "output_type": "stream",
     "text": [
      "D7 retention gate_30: 19.020%\n",
      "D7 retention gate_40: 18.200%\n",
      "Difference: 0.820%\n",
      "z = 3.16, p-value = 0.0016\n"
     ]
    }
   ],
   "source": [
    "# Extract numbers\n",
    "success_30 = summary.loc['gate_30','retained']\n",
    "total_30   = summary.loc['gate_30','total']\n",
    "success_40 = summary.loc['gate_40','retained']\n",
    "total_40   = summary.loc['gate_40','total']\n",
    "\n",
    "# Sample proportions\n",
    "p1 = success_30 / total_30\n",
    "p2 = success_40 / total_40\n",
    "\n",
    "# Pooled proportion\n",
    "p = (success_30 + success_40) / (total_30 + total_40)\n",
    "\n",
    "# Standard error\n",
    "se = np.sqrt(p * (1 - p) * (1/total_30 + 1/total_40))\n",
    "\n",
    "# Z-score\n",
    "z = (p1 - p2) / se\n",
    "\n",
    "# Two-tailed p-value\n",
    "pval = 2 * (1 - stats.norm.cdf(abs(z)))\n",
    "\n",
    "print(f\"D7 retention gate_30: {p1:.3%}\")\n",
    "print(f\"D7 retention gate_40: {p2:.3%}\")\n",
    "print(f\"Difference: {(p1-p2):.3%}\")\n",
    "print(f\"z = {z:.2f}, p-value = {pval:.4f}\")\n"
   ]
  },
  {
   "cell_type": "code",
   "execution_count": 8,
   "id": "6a0d6fe1",
   "metadata": {},
   "outputs": [
    {
     "name": "stdout",
     "output_type": "stream",
     "text": [
      "Cohen's h = 0.021\n"
     ]
    }
   ],
   "source": [
    "def cohen_h(p1, p2):\n",
    "    return 2 * (np.arcsin(np.sqrt(p1)) - np.arcsin(np.sqrt(p2)))\n",
    "\n",
    "h = cohen_h(p1, p2)\n",
    "print(f\"Cohen's h = {h:.3f}\")"
   ]
  },
  {
   "cell_type": "code",
   "execution_count": 14,
   "id": "81eac0cc",
   "metadata": {},
   "outputs": [
    {
     "data": {
      "image/png": "[encoded data removed]",
      "text/plain": [
       "<Figure size 640x480 with 1 Axes>"
      ]
     },
     "metadata": {},
     "output_type": "display_data"
    },
    {
     "name": "stdout",
     "output_type": "stream",
     "text": [
      " gate_30: (0.19020134228187918, (0.18656311652199903, 0.19383956804175934)) \n",
      " gate_40: (0.18200004396667327, (0.17845430073314686, 0.18554578720019968))\n"
     ]
    }
   ],
   "source": [
    "conf_30 = sm.stats.proportion_confint(success_30, total_30, alpha=0.05, method='normal')\n",
    "conf_40 = sm.stats.proportion_confint(success_40, total_40, alpha=0.05, method='normal')\n",
    "\n",
    "plt.bar([\"gate_30\",\"gate_40\"], [p1, p2], yerr=[\n",
    "    [p1 - conf_30[0], p2 - conf_40[0]],  # lower\n",
    "    [conf_30[1] - p1, conf_40[1] - p2]   # upper\n",
    "], capsize=5, color=[\"skyblue\",\"salmon\"])\n",
    "\n",
    "plt.ylabel(\"Retention rate (Day 7)\")\n",
    "plt.title(\"Cookie Cats A/B Test with 95% CI\")\n",
    "plt.show()\n",
    "\n",
    "print(f\" gate_30: ({p1}, {conf_30})\", '\\n', f\"gate_40: ({p2}, {conf_40})\")\n"
   ]
  },
  {
   "cell_type": "markdown",
   "id": "9f9c3743",
   "metadata": {},
   "source": [
    "# Setup:\n",
    "#### Compared Day 7 retention between gate_30 and gate_40 groups.\n",
    "#### Each group had ~45k players.\n",
    "# Results:\n",
    "#### Gate 30 retention: 19.0%\n",
    "#### Gate 40 retention: 18.2%\n",
    "#### Difference: +0.8 percentage points\n",
    "# Statistical test:\n",
    "#### Two-proportion z-test: z = 3.16, p = 0.0016\n",
    "#### Result is statistically significant (p < 0.05).\n",
    "#### Effect size is very small (Cohen’s h = 0.021).\n",
    "# Visualization:\n",
    "#### Bar chart with 95% confidence intervals confirms the difference is real, but the margin is narrow.\n",
    "# Conclusion:\n",
    "#### Moving the gate from level 30 to 40 reduces Day 7 retention slightly.\n",
    "#### The effect is statistically significant but practically small.\n",
    "#### Recommendation: Keep the gate at level 30 to maximize long-term player retention."
   ]
  },
  {
   "cell_type": "markdown",
   "id": "c8d3ae5e",
   "metadata": {},
   "source": []
  }
 ],
 "metadata": {
  "kernelspec": {
   "display_name": ".venv",
   "language": "python",
   "name": "python3"
  },
  "language_info": {
   "codemirror_mode": {
    "name": "ipython",
    "version": 3
   },
   "file_extension": ".py",
   "mimetype": "text/x-python",
   "name": "python",
   "nbconvert_exporter": "python",
   "pygments_lexer": "ipython3",
   "version": "3.13.7"
  }
 },
 "nbformat": 4,
 "nbformat_minor": 5
}
